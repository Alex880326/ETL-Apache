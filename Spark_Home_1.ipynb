{
  "nbformat": 4,
  "nbformat_minor": 0,
  "metadata": {
    "colab": {
      "provenance": [],
      "authorship_tag": "ABX9TyNIYyrIADHqqumMxE6lNz69"
    },
    "kernelspec": {
      "name": "python3",
      "display_name": "Python 3"
    },
    "language_info": {
      "name": "python"
    }
  },
  "cells": [
    {
      "cell_type": "code",
      "source": [
        "!pip install pyspark"
      ],
      "metadata": {
        "colab": {
          "base_uri": "https://localhost:8080/"
        },
        "id": "Uu_kxEKm_q9I",
        "outputId": "fecaf66e-ba19-48aa-85d8-13954d1d9dcf"
      },
      "execution_count": null,
      "outputs": [
        {
          "output_type": "stream",
          "name": "stdout",
          "text": [
            "Collecting pyspark\n",
            "  Downloading pyspark-3.5.1.tar.gz (317.0 MB)\n",
            "\u001b[2K     \u001b[90m━━━━━━━━━━━━━━━━━━━━━━━━━━━━━━━━━━━━━━━━\u001b[0m \u001b[32m317.0/317.0 MB\u001b[0m \u001b[31m3.7 MB/s\u001b[0m eta \u001b[36m0:00:00\u001b[0m\n",
            "\u001b[?25h  Preparing metadata (setup.py) ... \u001b[?25l\u001b[?25hdone\n",
            "Requirement already satisfied: py4j==0.10.9.7 in /usr/local/lib/python3.10/dist-packages (from pyspark) (0.10.9.7)\n",
            "Building wheels for collected packages: pyspark\n",
            "  Building wheel for pyspark (setup.py) ... \u001b[?25l\u001b[?25hdone\n",
            "  Created wheel for pyspark: filename=pyspark-3.5.1-py2.py3-none-any.whl size=317488491 sha256=20110961926542332cf54844e727acf01cf9c36f65fca88be9d8b338504c0ed2\n",
            "  Stored in directory: /root/.cache/pip/wheels/80/1d/60/2c256ed38dddce2fdd93be545214a63e02fbd8d74fb0b7f3a6\n",
            "Successfully built pyspark\n",
            "Installing collected packages: pyspark\n",
            "Successfully installed pyspark-3.5.1\n"
          ]
        }
      ]
    },
    {
      "cell_type": "code",
      "source": [
        "import pyspark\n",
        "from pyspark import SparkContext\n",
        "from pyspark.sql import SparkSession"
      ],
      "metadata": {
        "id": "nr4OmTmwu13h"
      },
      "execution_count": null,
      "outputs": []
    },
    {
      "cell_type": "code",
      "source": [
        "sc.stop()"
      ],
      "metadata": {
        "id": "NABvhyNtBnrJ"
      },
      "execution_count": null,
      "outputs": []
    },
    {
      "cell_type": "code",
      "execution_count": null,
      "metadata": {
        "colab": {
          "base_uri": "https://localhost:8080/"
        },
        "id": "Y22KCUl5uLqj",
        "outputId": "79093ff3-662b-47e5-f8fc-0ecb23483c93"
      },
      "outputs": [
        {
          "output_type": "stream",
          "name": "stdout",
          "text": [
            "[55, 81, 16, 88, 14, 87, 53, 12, 4, 24, 101, 39, 9, 30, 84, 68, 33, 14, 98, 65, 76, 15, 75, 30, 109, 57, 120, 0, 67, 40, 73, 78, 93, 107, 37, 75, 120, 79, 85, 92, 93, 1, 112, 52, 2, 82, 35, 105, 4, 73, 93, 84, 100, 8, 65]\n",
            "Самая длинная последовательность упорядоченных чисел:\n",
            "[91, 92, 93]\n"
          ]
        }
      ],
      "source": [
        "import random\n",
        "\n",
        "randvalues = [random.randint(0, 120) for _ in range(55)]\n",
        "sc = SparkContext(\"local\", \"Longest_sequence\")\n",
        "rdd = sc.parallelize(randvalues)\n",
        "longest_sequence = rdd.map(lambda x: (x, 1)) \\\n",
        "        .reduceByKey(lambda x, y: x + y).max(key=lambda x: x[1])\n",
        "\n",
        "print(randvalues)\n",
        "print(f'{\"Самая длинная последовательность упорядоченных чисел:\":^50}')\n",
        "\n",
        "print(list(range(longest_sequence[0] - longest_sequence[1] + 1, longest_sequence[0] + 1)))"
      ]
    }
  ]
}