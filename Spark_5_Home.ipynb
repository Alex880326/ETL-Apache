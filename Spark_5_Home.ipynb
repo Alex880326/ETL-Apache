{
  "nbformat": 4,
  "nbformat_minor": 0,
  "metadata": {
    "colab": {
      "provenance": [],
      "authorship_tag": "ABX9TyOXc7HVIlwatY3p1eHIHrjF",
      "include_colab_link": true
    },
    "kernelspec": {
      "name": "python3",
      "display_name": "Python 3"
    },
    "language_info": {
      "name": "python"
    }
  },
  "cells": [
    {
      "cell_type": "markdown",
      "metadata": {
        "id": "view-in-github",
        "colab_type": "text"
      },
      "source": [
        "<a href=\"https://colab.research.google.com/github/Alex880326/ETL-Apache/blob/main/Spark_5_Home.ipynb\" target=\"_parent\"><img src=\"https://colab.research.google.com/assets/colab-badge.svg\" alt=\"Open In Colab\"/></a>"
      ]
    },
    {
      "cell_type": "code",
      "source": [
        "pip install pyspark"
      ],
      "metadata": {
        "colab": {
          "base_uri": "https://localhost:8080/"
        },
        "id": "yq4lw-btgXf6",
        "outputId": "3c20e2f4-0b6b-4248-f2c5-740a76b4c435"
      },
      "execution_count": 4,
      "outputs": [
        {
          "output_type": "stream",
          "name": "stdout",
          "text": [
            "Collecting pyspark\n",
            "  Downloading pyspark-3.5.1.tar.gz (317.0 MB)\n",
            "\u001b[2K     \u001b[90m━━━━━━━━━━━━━━━━━━━━━━━━━━━━━━━━━━━━━━━━\u001b[0m \u001b[32m317.0/317.0 MB\u001b[0m \u001b[31m1.8 MB/s\u001b[0m eta \u001b[36m0:00:00\u001b[0m\n",
            "\u001b[?25h  Preparing metadata (setup.py) ... \u001b[?25l\u001b[?25hdone\n",
            "Requirement already satisfied: py4j==0.10.9.7 in /usr/local/lib/python3.10/dist-packages (from pyspark) (0.10.9.7)\n",
            "Building wheels for collected packages: pyspark\n",
            "  Building wheel for pyspark (setup.py) ... \u001b[?25l\u001b[?25hdone\n",
            "  Created wheel for pyspark: filename=pyspark-3.5.1-py2.py3-none-any.whl size=317488491 sha256=f889d2586a386cc1d4ce08cdc3b0051f2462239cb00378c75b052dc868e6a02d\n",
            "  Stored in directory: /root/.cache/pip/wheels/80/1d/60/2c256ed38dddce2fdd93be545214a63e02fbd8d74fb0b7f3a6\n",
            "Successfully built pyspark\n",
            "Installing collected packages: pyspark\n",
            "Successfully installed pyspark-3.5.1\n"
          ]
        }
      ]
    },
    {
      "cell_type": "code",
      "source": [
        "from pyspark.sql import SparkSession\n",
        "from pyspark.sql.functions import col\n",
        "from pyspark.sql import functions as F"
      ],
      "metadata": {
        "id": "d6I2l3b0gVAR"
      },
      "execution_count": 5,
      "outputs": []
    },
    {
      "cell_type": "code",
      "execution_count": 6,
      "metadata": {
        "colab": {
          "base_uri": "https://localhost:8080/"
        },
        "id": "WkkbQbN0ffXa",
        "outputId": "6439d05f-90d9-4dde-b4a9-b6981eae1bf2"
      },
      "outputs": [
        {
          "output_type": "stream",
          "name": "stdout",
          "text": [
            "CSV файл успешно создан!\n"
          ]
        }
      ],
      "source": [
        "import csv\n",
        "\n",
        "data = [\n",
        "    ['title', 'author', 'genre', 'sales', 'year'],\n",
        "    ['1984', 'George Orwell', 'Science Fiction', 5000, 1949],\n",
        "    ['The Lord of the Rings', 'J.R.R. Tolkien', 'Fantasy', 3000, 1954],\n",
        "    ['To Kill a Mockingbird', 'Harper Lee', 'Southern Gothic', 4000, 1960],\n",
        "    ['The Catcher in the Rye', 'J.D. Salinger', 'Novel', 2000, 1951],\n",
        "    ['The Great Gatsby', 'F. Scott Fitzgerald', 'Novel', 4500, 1925]\n",
        "]\n",
        "\n",
        "with open('books.csv', 'w', newline='') as file:\n",
        "    writer = csv.writer(file)\n",
        "    writer.writerows(data)\n",
        "\n",
        "print('CSV файл успешно создан!')\n"
      ]
    },
    {
      "cell_type": "code",
      "source": [
        "spark = SparkSession.builder.appName(\"BooksSalesAnalysis\").getOrCreate()\n",
        "df = spark.read.csv(\"books.csv\", header=True)\n",
        "\n",
        "# Отбираем продажи > 3000\n",
        "df_filtered = df.filter(df[\"sales\"] > 3000)\n",
        "\n",
        "# Группировка данных по жанру\n",
        "genre_sales = df_filtered.groupBy(\"genre\").agg(F.sum(\"sales\").alias(\"total_sales\"))\n",
        "\n",
        "# Сортировка по объему продаж\n",
        "genre_sales_sorted = genre_sales.orderBy(F.desc(\"total_sales\"))\n",
        "\n",
        "# Вывод\n",
        "genre_sales_sorted.show()\n"
      ],
      "metadata": {
        "colab": {
          "base_uri": "https://localhost:8080/"
        },
        "id": "KM1kqbsns18j",
        "outputId": "a46f33e8-4268-4cd9-bf08-96ff2a4bceef"
      },
      "execution_count": 24,
      "outputs": [
        {
          "output_type": "stream",
          "name": "stdout",
          "text": [
            "+---------------+-----------+\n",
            "|          genre|total_sales|\n",
            "+---------------+-----------+\n",
            "|Science Fiction|     5000.0|\n",
            "|          Novel|     4500.0|\n",
            "|Southern Gothic|     4000.0|\n",
            "+---------------+-----------+\n",
            "\n"
          ]
        }
      ]
    }
  ]
}